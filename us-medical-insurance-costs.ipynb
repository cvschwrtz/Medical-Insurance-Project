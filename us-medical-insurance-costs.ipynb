{
 "cells": [
  {
   "cell_type": "markdown",
   "metadata": {},
   "source": [
    "# U.S. Medical Insurance Costs"
   ]
  },
  {
   "cell_type": "code",
   "execution_count": 504,
   "metadata": {},
   "outputs": [],
   "source": [
    "import csv\n",
    "\n",
    "age = []\n",
    "sex = []\n",
    "bmi = []\n",
    "num_child = []\n",
    "smoker = []\n",
    "region = []\n",
    "ins_cost = []\n",
    "\n",
    "def ins_data(lst, csv_file, column_name):\n",
    "    with open(csv_file) as csv_info:\n",
    "        csv_dict = csv.DictReader(csv_info)\n",
    "        for row in csv_dict:\n",
    "            lst.append(row[column_name])\n",
    "        return lst\n",
    "\n",
    "ins_data(age, 'insurance.csv', 'age')\n",
    "ins_data(sex, 'insurance.csv', 'sex')\n",
    "ins_data(bmi, 'insurance.csv', 'bmi')\n",
    "ins_data(num_child, 'insurance.csv', 'children')\n",
    "ins_data(smoker, 'insurance.csv', 'smoker')\n",
    "ins_data(region, 'insurance.csv', 'region')\n",
    "ins_data(ins_cost, 'insurance.csv', 'charges')\n",
    "\n",
    "class Profile:\n",
    "    def __init__(self, age, sex, bmi, num_child, smoker, region, ins_cost):\n",
    "        self.age = age\n",
    "        self.sex = sex\n",
    "        self.bmi = bmi\n",
    "        self.num_child = num_child\n",
    "        self.smoker = smoker\n",
    "        self.region = region\n",
    "        self.ins_cost = ins_cost\n",
    "\n",
    "    def ins_profile(self):\n",
    "        self.ins_info = {}\n",
    "        self.ins_info[\"Age\"] = [int(age) for age in self.age]\n",
    "        self.ins_info[\"Sex\"] = self.sex\n",
    "        self.ins_info[\"BMI\"] = self.bmi\n",
    "        self.ins_info[\"Number of Children\"] = self.num_child\n",
    "        self.ins_info[\"Smoker\"] = self.smoker\n",
    "        self.ins_info[\"Region\"] = self.region\n",
    "        self.ins_info[\"Insurance Cost\"] = self.ins_cost\n",
    "        return self.ins_info\n",
    "\n",
    "    def update_age(self, new_age):\n",
    "        self.age = new_age\n",
    "        print(\"This person is now \" + str(self.age) + \" years old.\")\n",
    "\n",
    "    def analyze_ages(self):\n",
    "        total_age = 0\n",
    "        for age in self.age:\n",
    "            total_age += int(age)\n",
    "        return (\"Average Patient Age: \" + str(round(total_age/len(self.age), 2)) + \" years\")\n",
    "\n",
    "    def analyze_sex(self):\n",
    "        females = 0\n",
    "        males = 0\n",
    "        for sex in self.sex:\n",
    "            if sex == 'female':\n",
    "                females += 1\n",
    "            elif sex == 'male':\n",
    "                males += 1\n",
    "        print(\"Number of females: \", females)\n",
    "        print(\"Number of males: \", males)\n",
    "\n",
    "    def update_num_child(self, new_num_child):\n",
    "        self.num_child = new_num_child\n",
    "        if new_num_child == 1:\n",
    "            print(\"This person now has \" + str(self.num_child) + \" child.\")\n",
    "        else:\n",
    "            print(\"This person now has \" + str(self.num_child) + \" children.\")\n",
    "\n",
    "    def analyze_smoker(self):\n",
    "        smoker = 0\n",
    "        non_smoker = 0\n",
    "        for item in self.smoker:\n",
    "            if item == 'yes':\n",
    "                smoker += 1\n",
    "            elif item == 'no':\n",
    "                non_smoker += 1\n",
    "        print(\"Number of smokers: \", smoker)\n",
    "        print(\"Number of non-smokers: \", non_smoker)\n",
    "\n",
    "    def unique_regions(self):\n",
    "        unique_regions = []\n",
    "        for region in self.region:\n",
    "            if region not in unique_regions: \n",
    "                unique_regions.append(region)\n",
    "        return unique_regions\n",
    "\n",
    "    def pop_region(self):\n",
    "        southwest = 0\n",
    "        southeast = 0\n",
    "        northwest = 0\n",
    "        northeast = 0\n",
    "        for item in self.region:\n",
    "            if item == 'southwest':\n",
    "                southwest += 1\n",
    "            elif item == 'southeast':\n",
    "                southeast += 1\n",
    "            elif item == 'northwest':\n",
    "                northwest +=1\n",
    "            elif item == 'northeast':\n",
    "                northeast +=1\n",
    "        print(\"Number of people in the Southwest region:\", southwest)\n",
    "        print(\"Number of people in the Southeast region:\", southeast)\n",
    "        print(\"Number of people in the Northwest region:\", northwest)\n",
    "        print(\"Number of people in the Northeast region:\", northeast)"
   ]
  },
  {
   "cell_type": "code",
   "execution_count": 505,
   "metadata": {},
   "outputs": [],
   "source": [
    "patient_info = Profile(age, sex, bmi, num_child, smoker, region, ins_cost)"
   ]
  },
  {
   "cell_type": "code",
   "execution_count": 506,
   "metadata": {},
   "outputs": [
    {
     "output_type": "execute_result",
     "data": {
      "text/plain": [
       "'Average Patient Age: 39.21 years'"
      ]
     },
     "metadata": {},
     "execution_count": 506
    }
   ],
   "source": [
    "patient_info.analyze_ages()"
   ]
  },
  {
   "cell_type": "code",
   "execution_count": 507,
   "metadata": {},
   "outputs": [
    {
     "output_type": "stream",
     "name": "stdout",
     "text": [
      "This person is now 26 years old.\n"
     ]
    }
   ],
   "source": [
    "patient_info.update_age(26)"
   ]
  },
  {
   "cell_type": "code",
   "execution_count": 508,
   "metadata": {},
   "outputs": [
    {
     "output_type": "stream",
     "name": "stdout",
     "text": [
      "Number of females:  662\nNumber of males:  676\n"
     ]
    }
   ],
   "source": [
    "patient_info.analyze_sex()"
   ]
  },
  {
   "cell_type": "code",
   "execution_count": 509,
   "metadata": {},
   "outputs": [
    {
     "output_type": "stream",
     "name": "stdout",
     "text": [
      "This person now has 4 children.\n"
     ]
    }
   ],
   "source": [
    "patient_info.update_num_child(4)"
   ]
  },
  {
   "cell_type": "code",
   "execution_count": 510,
   "metadata": {},
   "outputs": [
    {
     "output_type": "stream",
     "name": "stdout",
     "text": [
      "This person now has 1 child.\n"
     ]
    }
   ],
   "source": [
    "patient_info.update_num_child(1)"
   ]
  },
  {
   "cell_type": "code",
   "execution_count": 511,
   "metadata": {},
   "outputs": [
    {
     "output_type": "stream",
     "name": "stdout",
     "text": [
      "Number of smokers:  274\nNumber of non-smokers:  1064\n"
     ]
    }
   ],
   "source": [
    "patient_info.analyze_smoker()"
   ]
  },
  {
   "cell_type": "code",
   "execution_count": 512,
   "metadata": {},
   "outputs": [
    {
     "output_type": "execute_result",
     "data": {
      "text/plain": [
       "['southwest', 'southeast', 'northwest', 'northeast']"
      ]
     },
     "metadata": {},
     "execution_count": 512
    }
   ],
   "source": [
    "patient_info.unique_regions()"
   ]
  },
  {
   "cell_type": "code",
   "execution_count": 513,
   "metadata": {},
   "outputs": [
    {
     "output_type": "stream",
     "name": "stdout",
     "text": [
      "Number of people in the Southwest region: 325\nNumber of people in the Southeast region: 364\nNumber of people in the Northwest region: 325\nNumber of people in the Northeast region: 324\n"
     ]
    }
   ],
   "source": [
    "patient_info.pop_region()"
   ]
  }
 ],
 "metadata": {
  "kernelspec": {
   "name": "python395jvsc74a57bd0f5af62a47a935cab1b9f5bd55dc8a4ffe1f7de94240ad3b9f4f2daad172ede4c",
   "display_name": "Python 3.9.5 64-bit"
  },
  "language_info": {
   "codemirror_mode": {
    "name": "ipython",
    "version": 3
   },
   "file_extension": ".py",
   "mimetype": "text/x-python",
   "name": "python",
   "nbconvert_exporter": "python",
   "pygments_lexer": "ipython3",
   "version": "3.9.5"
  },
  "metadata": {
   "interpreter": {
    "hash": "f5af62a47a935cab1b9f5bd55dc8a4ffe1f7de94240ad3b9f4f2daad172ede4c"
   }
  }
 },
 "nbformat": 4,
 "nbformat_minor": 4
}